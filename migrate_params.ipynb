{
 "cells": [
  {
   "cell_type": "code",
   "execution_count": 14,
   "metadata": {},
   "outputs": [],
   "source": [
    "import pyautogui as gui\n",
    "import pywinauto as wind\n",
    "import pytesseract\n",
    "from time import sleep\n",
    "from pywinauto.application import Application\n",
    "import path_location\n",
    "\n",
    "pytesseract.pytesseract.tesseract_cmd = path_location.TESSERACT_LOC\n",
    "RST_LOCATION = path_location.RST_LOCATION"
   ]
  },
  {
   "cell_type": "code",
   "execution_count": 15,
   "metadata": {},
   "outputs": [],
   "source": [
    "def click_here(x, y, pause=None, debug=False):\n",
    "    gui.moveTo(x, y, pause=pause)\n",
    "    if debug:\n",
    "        gui.press('ctrl', presses=2, interval=.7)\n",
    "    gui.click()\n",
    "\n",
    "def get_app_prop(app):\n",
    "    app_prop = app.rectangle()\n",
    "    return (app_prop.left, app_prop.top, app_prop.width(), app_prop.height())\n",
    "\n",
    "def get_sreenshot(app=None, wind_stat=None):\n",
    "    if app != None:\n",
    "        app.set_focus()\n",
    "        app_prop = get_app_prop(app)\n",
    "        wind_stat = (app_prop[0], app_prop[1], app_prop[2], app_prop[3])\n",
    "    elif wind_stat == None:\n",
    "        print('[ERROR] Either app object or custom box has to be passed')\n",
    "        return \n",
    "    return gui.screenshot(region=wind_stat)\n",
    "\n",
    "def image_convert(image):\n",
    "    greyscale = image.convert('L')\n",
    "    blackwhite = greyscale.point(lambda x: 0 if x < 200 else 255, '1')\n",
    "    return image\n",
    "    # return blackwhite"
   ]
  },
  {
   "cell_type": "code",
   "execution_count": 16,
   "metadata": {},
   "outputs": [],
   "source": [
    "def ocr(img, v1=False, raw=False):\n",
    "    if v1:\n",
    "        return pytesseract.image_to_string(img).split('\\n')\n",
    "    else:\n",
    "        import io\n",
    "        import json\n",
    "        import cv2\n",
    "        import numpy as np\n",
    "        import requests\n",
    "\n",
    "        img.save(\"screenshot.jpg\")\n",
    "        img = cv2.imread(\"screenshot.jpg\")\n",
    "        url_api = \"https://api.ocr.space/parse/image\"\n",
    "        _, compressedimage = cv2.imencode(\".jpg\", img, [1, 90])\n",
    "        file_bytes = io.BytesIO(compressedimage)\n",
    "\n",
    "        result = requests.post(url_api,\n",
    "                    files = {\"screenshot.jpg\": file_bytes},\n",
    "                    data = {\"apikey\": path_location.OCR_SPACE_API_KEY,\n",
    "                            \"language\": \"eng\",'isOverlayRequired':raw})\n",
    "        result = result.content.decode()\n",
    "        result = json.loads(result)\n",
    "        if raw:\n",
    "            return result\n",
    "        parsed_results = result.get(\"ParsedResults\")[0]\n",
    "        return parsed_results.get(\"ParsedText\").split()"
   ]
  },
  {
   "cell_type": "code",
   "execution_count": 17,
   "metadata": {},
   "outputs": [
    {
     "name": "stderr",
     "output_type": "stream",
     "text": "D:\\Users\\GV\\Anaconda3\\lib\\site-packages\\pywinauto\\application.py:1087: UserWarning: 32-bit application should be automated using 32-bit Python (you use 64-bit Python)\n  UserWarning)\n"
    }
   ],
   "source": [
    "try:\n",
    "    pc2 = Application().connect(title_re='.*Project CARS 2.*')['Project Cars 2']\n",
    "except wind.findwindows.ElementNotFoundError:\n",
    "    print('[ERROR] Launch PCARS 2 first')\n",
    "#     quit()\n",
    "    \n",
    "try:\n",
    "    rst = Application().connect(title_re='MainWindow').MainWindow\n",
    "except wind.findwindows.ElementNotFoundError:\n",
    "    rst = Application().start(RST_LOCATION+'\\\\RST Software.exe').MainWindow\n",
    "except wind.findwindows.ElementAmbiguousError:\n",
    "    print('[ERROR] Sad, but for now, close the params child window.')\n",
    "#     quit()"
   ]
  },
  {
   "cell_type": "markdown",
   "metadata": {},
   "source": [
    "## RST"
   ]
  },
  {
   "cell_type": "code",
   "execution_count": 18,
   "metadata": {},
   "outputs": [
    {
     "ename": "NameError",
     "evalue": "name 'moveMouse' is not defined",
     "output_type": "error",
     "traceback": [
      "\u001b[1;31m---------------------------------------------------------------------------\u001b[0m",
      "\u001b[1;31mNameError\u001b[0m                                 Traceback (most recent call last)",
      "\u001b[1;32m<ipython-input-18-90871176c491>\u001b[0m in \u001b[0;36m<module>\u001b[1;34m\u001b[0m\n\u001b[0;32m     31\u001b[0m     \u001b[0mclcik_here\u001b[0m\u001b[1;33m(\u001b[0m\u001b[0mnext_sess_gear\u001b[0m\u001b[1;33m,\u001b[0m \u001b[0mpause\u001b[0m\u001b[1;33m=\u001b[0m\u001b[1;36m1\u001b[0m\u001b[1;33m,\u001b[0m \u001b[0mdebug\u001b[0m\u001b[1;33m=\u001b[0m\u001b[1;32mTrue\u001b[0m\u001b[1;33m)\u001b[0m\u001b[1;33m\u001b[0m\u001b[1;33m\u001b[0m\u001b[0m\n\u001b[0;32m     32\u001b[0m \u001b[1;33m\u001b[0m\u001b[0m\n\u001b[1;32m---> 33\u001b[1;33m \u001b[0mopen_rst_params\u001b[0m\u001b[1;33m(\u001b[0m\u001b[1;33m)\u001b[0m\u001b[1;33m\u001b[0m\u001b[1;33m\u001b[0m\u001b[0m\n\u001b[0m",
      "\u001b[1;32m<ipython-input-18-90871176c491>\u001b[0m in \u001b[0;36mopen_rst_params\u001b[1;34m()\u001b[0m\n\u001b[0;32m      6\u001b[0m     \u001b[0mRST_NEXT_OFFSET_Y\u001b[0m \u001b[1;33m=\u001b[0m \u001b[0mRST_FILE_OFFSET_Y\u001b[0m\u001b[1;33m+\u001b[0m\u001b[1;36m80\u001b[0m\u001b[1;33m\u001b[0m\u001b[1;33m\u001b[0m\u001b[0m\n\u001b[0;32m      7\u001b[0m \u001b[1;33m\u001b[0m\u001b[0m\n\u001b[1;32m----> 8\u001b[1;33m     \u001b[0mmoveMouse\u001b[0m\u001b[1;33m(\u001b[0m\u001b[0mx\u001b[0m\u001b[1;33m=\u001b[0m\u001b[0mget_app_prop\u001b[0m\u001b[1;33m(\u001b[0m\u001b[0mrst\u001b[0m\u001b[1;33m)\u001b[0m\u001b[1;33m[\u001b[0m\u001b[1;36m0\u001b[0m\u001b[1;33m]\u001b[0m\u001b[1;33m+\u001b[0m\u001b[0mRST_FILE_OFFSET_X\u001b[0m\u001b[1;33m,\u001b[0m\u001b[0my\u001b[0m\u001b[1;33m=\u001b[0m\u001b[0mget_app_prop\u001b[0m\u001b[1;33m(\u001b[0m\u001b[0mrst\u001b[0m\u001b[1;33m)\u001b[0m\u001b[1;33m[\u001b[0m\u001b[1;36m1\u001b[0m\u001b[1;33m]\u001b[0m\u001b[1;33m+\u001b[0m\u001b[0mRST_FILE_OFFSET_Y\u001b[0m\u001b[1;33m,\u001b[0m \u001b[0mpause\u001b[0m\u001b[1;33m=\u001b[0m\u001b[1;36m1\u001b[0m\u001b[1;33m)\u001b[0m\u001b[1;33m\u001b[0m\u001b[1;33m\u001b[0m\u001b[0m\n\u001b[0m\u001b[0;32m      9\u001b[0m     \u001b[0mgui\u001b[0m\u001b[1;33m.\u001b[0m\u001b[0mclick\u001b[0m\u001b[1;33m(\u001b[0m\u001b[0mx\u001b[0m\u001b[1;33m=\u001b[0m\u001b[0mget_app_prop\u001b[0m\u001b[1;33m(\u001b[0m\u001b[0mrst\u001b[0m\u001b[1;33m)\u001b[0m\u001b[1;33m[\u001b[0m\u001b[1;36m0\u001b[0m\u001b[1;33m]\u001b[0m\u001b[1;33m+\u001b[0m\u001b[0mRST_FILE_OFFSET_X\u001b[0m\u001b[1;33m,\u001b[0m\u001b[0my\u001b[0m\u001b[1;33m=\u001b[0m\u001b[0mget_app_prop\u001b[0m\u001b[1;33m(\u001b[0m\u001b[0mrst\u001b[0m\u001b[1;33m)\u001b[0m\u001b[1;33m[\u001b[0m\u001b[1;36m1\u001b[0m\u001b[1;33m]\u001b[0m\u001b[1;33m+\u001b[0m\u001b[0mRST_FILE_OFFSET_Y\u001b[0m\u001b[1;33m)\u001b[0m\u001b[1;33m\u001b[0m\u001b[1;33m\u001b[0m\u001b[0m\n\u001b[0;32m     10\u001b[0m     \u001b[0mmoveMouse\u001b[0m\u001b[1;33m(\u001b[0m\u001b[0mx\u001b[0m\u001b[1;33m=\u001b[0m\u001b[0mget_app_prop\u001b[0m\u001b[1;33m(\u001b[0m\u001b[0mrst\u001b[0m\u001b[1;33m)\u001b[0m\u001b[1;33m[\u001b[0m\u001b[1;36m0\u001b[0m\u001b[1;33m]\u001b[0m\u001b[1;33m+\u001b[0m\u001b[0mRST_NEXT_OFFSET_X\u001b[0m\u001b[1;33m,\u001b[0m\u001b[0my\u001b[0m\u001b[1;33m=\u001b[0m\u001b[0mget_app_prop\u001b[0m\u001b[1;33m(\u001b[0m\u001b[0mrst\u001b[0m\u001b[1;33m)\u001b[0m\u001b[1;33m[\u001b[0m\u001b[1;36m1\u001b[0m\u001b[1;33m]\u001b[0m\u001b[1;33m+\u001b[0m\u001b[0mRST_NEXT_OFFSET_Y\u001b[0m\u001b[1;33m,\u001b[0m \u001b[0mpause\u001b[0m\u001b[1;33m=\u001b[0m\u001b[1;36m1\u001b[0m\u001b[1;33m)\u001b[0m\u001b[1;33m\u001b[0m\u001b[1;33m\u001b[0m\u001b[0m\n",
      "\u001b[1;31mNameError\u001b[0m: name 'moveMouse' is not defined"
     ]
    }
   ],
   "source": [
    "def open_rst_params():\n",
    "    rst.set_focus()\n",
    "    RST_FILE_OFFSET_X = 370\n",
    "    RST_FILE_OFFSET_Y = 30\n",
    "    RST_NEXT_OFFSET_X = RST_FILE_OFFSET_X+10\n",
    "    RST_NEXT_OFFSET_Y = RST_FILE_OFFSET_Y+80\n",
    "\n",
    "    click_here(x=get_app_prop(rst)[0]+RST_FILE_OFFSET_X,y=get_app_prop(rst)[1]+RST_FILE_OFFSET_Y, pause=1)\n",
    "    click_here(x=get_app_prop(rst)[0]+RST_NEXT_OFFSET_X,y=get_app_prop(rst)[1]+RST_NEXT_OFFSET_Y, pause=1)\n",
    "\n",
    "def find_rst_settings(pos):\n",
    "    next_sess = get_app_prop(rst)\n",
    "    mid_op = next_sess[2]/4\n",
    "    return (next_sess[0]+mid_op/2+mid_op*pos, next_sess[1]+100)\n",
    "\n",
    "def open_rst_sus():\n",
    "    rst.set_focus()\n",
    "    next_sess_sus = find_rst_settings(1)\n",
    "    clic_here(next_sess_sus, pause=1, debug=True)\n",
    "\n",
    "def open_rst_dam():\n",
    "    rst.set_focus()\n",
    "    next_sess_sus = find_rst_settings(2)\n",
    "    clcik_here(next_sess_sus, pause=1, debug=True)\n",
    "\n",
    "def open_rst_gear():\n",
    "    rst.set_focus()\n",
    "    next_sess_gear = find_rst_settings(3)\n",
    "    clcik_here(next_sess_gear, pause=1, debug=True)\n",
    "\n",
    "open_rst_params()"
   ]
  },
  {
   "cell_type": "markdown",
   "metadata": {},
   "source": [
    "## PCARS2"
   ]
  },
  {
   "cell_type": "code",
   "execution_count": 0,
   "metadata": {},
   "outputs": [],
   "source": [
    "WIDTH_RATIO = pc2.client_rect().width()/2560\n",
    "HEIGHT_RATIO = pc2.client_rect().height()/1440\n",
    "PC2_SETUP_HEAD_CENTER = int(pc2.rectangle().left+pc2.rectangle().width()/2)\n",
    "PC2_SETUP_HEAD_Y = int(get_app_prop(pc2)[1]+360*HEIGHT_RATIO)\n",
    "PC2_POS_SUS_X = int(PC2_SETUP_HEAD_CENTER-200)\n",
    "PC2_POS_DAMP_X = int(PC2_SETUP_HEAD_CENTER)\n",
    "PC2_POS_ECU_X = int(PC2_SETUP_HEAD_CENTER+250)\n",
    "\n",
    "\n"
   ]
  },
  {
   "cell_type": "code",
   "execution_count": 0,
   "metadata": {},
   "outputs": [],
   "source": [
    "def get_stats_gear_pc2(PC2_POS_ECU_X, PC2_SETUP_HEAD_Y, ratio):\n",
    "    # Select ECU menu\n",
    "    rst.set_focus()\n",
    "    pc2.set_focus()\n",
    "    gui.click(PC2_POS_ECU_X, PC2_SETUP_HEAD_Y, clicks=2,interval=1)\n",
    "    takestart_x = pc2.rectangle().left+1360*ratio[1]\n",
    "    takeend_width = 100*ratio[1]\n",
    "    takestart_y = pc2.rectangle().top+740*ratio[1]\n",
    "    takeend_height = 310*ratio[1]\n",
    "    content = image_convert(get_sreenshot(wind_stat=(takestart_x,takestart_y, takeend_width, takeend_height)))\n",
    "    return ocr(content)\n",
    "\n",
    "def set_stats_gear_rst(gears):\n",
    "    rst.set_focus()\n",
    "    rst_pos_x, rst_pos_y = rst.rectangle().left, rst.rectangle().top\n",
    "    rst_pos_height, rst_pos_width = rst.rectangle().height(), rst.rectangle().width()\n",
    "    rst_width_mid = rst_pos_x+rst_pos_width/2\n",
    "    rst_y_firstfield = rst_pos_y+180\n",
    "    for gear, val in enumerate(gears):\n",
    "        gui.click((rst_width_mid, rst_y_firstfield+55*gear))\n",
    "        try:\n",
    "            float(val)\n",
    "            gui.typewrite(val)\n",
    "        except ValueError:\n",
    "            print(f'[ERROR] Gear {gear} ({val}) not a number')"
   ]
  },
  {
   "cell_type": "code",
   "execution_count": 0,
   "metadata": {},
   "outputs": [],
   "source": [
    "def get_stats_sus_pc2(PC2_POS_SUS_X, PC2_SETUP_HEAD_Y, ratio):\n",
    "    # Select suspension menu\n",
    "    rst.set_focus()\n",
    "    pc2.set_focus()\n",
    "    gui.click(PC2_POS_SUS_X, PC2_SETUP_HEAD_Y, clicks=2,interval=1)\n",
    "\n",
    "    # Get front suspension stats\n",
    "    # takestart_x = pc2.rectangle().left+1360*ratio[1]\n",
    "    # takeend_width = 100*ratio[1]\n",
    "    # takestart_y = pc2.rectangle().top+740*ratio[1]\n",
    "    # takeend_height = 310*ratio[1]\n",
    "    # content = image_convert(get_sreenshot(wind_stat=(takestart_x,takestart_y, takeend_width, takeend_height)))\n",
    "    # return ocr(content)\n",
    "def set_stats_sus_rst(gears):\n",
    "    rst.set_focus()\n",
    "    # rst_pos_x, rst_pos_y = rst.rectangle().left, rst.rectangle().top\n",
    "    # rst_pos_height, rst_pos_width = rst.rectangle().height(), rst.rectangle().width()\n",
    "    # rst_width_mid = rst_pos_x+rst_pos_width/2\n",
    "    # rst_y_firstfield = rst_pos_y+180\n",
    "    # for gear, val in enumerate(gears):\n",
    "    #     gui.click((rst_width_mid, rst_y_firstfield+55*gear))\n",
    "    #     try:\n",
    "    #         float(val)\n",
    "    #         gui.typewrite(val)\n",
    "    #     except ValueError:\n",
    "    #         print(f'[ERROR] Gear {gear} ({val}) not a number')"
   ]
  },
  {
   "cell_type": "code",
   "execution_count": 0,
   "metadata": {},
   "outputs": [],
   "source": [
    "def get_damp_stats(PC2_POS_DAMP_X, PC2_SETUP_HEAD_Y, ratio=None):\n",
    "    #Select dampers menu\n",
    "    rst.set_focus()\n",
    "    pc2.set_focus()\n",
    "    gui.click(PC2_POS_DAMP_X, PC2_SETUP_HEAD_Y, clicks=2,interval=1)"
   ]
  },
  {
   "cell_type": "code",
   "execution_count": 0,
   "metadata": {},
   "outputs": [],
   "source": [
    "# print(get_suspension_stats(PC2_POS_SUS_X, PC2_SETUP_HEAD_Y))\n",
    "# print(get_damp_stats(PC2_POS_DAMP_X, PC2_SETUP_HEAD_Y))\n",
    "\n",
    "# print(PC2_POS_SUS_X, PC2_SETUP_HEAD_Y)\n",
    "# print(PC2_POS_DAMP_X, PC2_SETUP_HEAD_Y)\n",
    "# print(PC2_POS_ECU_X, PC2_SETUP_HEAD_Y)"
   ]
  },
  {
   "cell_type": "code",
   "execution_count": 0,
   "metadata": {},
   "outputs": [],
   "source": [
    "open_rst_gear()\n",
    "gears = get_stats_gear_pc2(PC2_POS_ECU_X, PC2_SETUP_HEAD_Y, (HEIGHT_RATIO, WIDTH_RATIO))\n",
    "set_stats_gear_rst(gears)"
   ]
  },
  {
   "cell_type": "code",
   "execution_count": 0,
   "metadata": {},
   "outputs": [],
   "source": [
    "content = image_convert(get_sreenshot(pc2))\n",
    "ocr(content, raw=True)"
   ]
  },
  {
   "cell_type": "code",
   "execution_count": 0,
   "metadata": {},
   "outputs": [],
   "source": [
    "content"
   ]
  },
  {
   "cell_type": "code",
   "execution_count": null,
   "metadata": {},
   "outputs": [],
   "source": []
  }
 ],
 "metadata": {
  "kernelspec": {
   "display_name": "Python 3",
   "language": "python",
   "name": "python3"
  },
  "language_info": {
   "codemirror_mode": {
    "name": "ipython",
    "version": 3
   },
   "file_extension": ".py",
   "mimetype": "text/x-python",
   "name": "python",
   "nbconvert_exporter": "python",
   "pygments_lexer": "ipython3",
   "version": "3.7.5"
  }
 },
 "nbformat": 4,
 "nbformat_minor": 4
}