{
 "cells": [
  {
   "cell_type": "code",
   "execution_count": 1,
   "metadata": {},
   "outputs": [],
   "source": [
    "import pyautogui as gui\n",
    "import pywinauto as wind\n",
    "import pytesseract\n",
    "from time import sleep\n",
    "from pywinauto.application import Application\n",
    "import path_location\n",
    "import re\n",
    "\n",
    "pytesseract.pytesseract.tesseract_cmd = path_location.TESSERACT_LOC\n",
    "RST_LOCATION = path_location.RST_LOCATION"
   ]
  },
  {
   "cell_type": "code",
   "execution_count": 2,
   "metadata": {},
   "outputs": [],
   "source": [
    "def click_here(x=None, y=None, pause=None, debug=False):\n",
    "    gui.moveTo(x, y, pause=pause)\n",
    "    if debug:\n",
    "        gui.press('ctrl', presses=2, interval=.7)\n",
    "    gui.click()\n",
    "\n",
    "def get_app_prop(app):\n",
    "    app_prop = app.rectangle()\n",
    "    return (app_prop.left, app_prop.top, app_prop.width(), app_prop.height())\n",
    "\n",
    "def get_app_prop2(app):\n",
    "    app_prop = app.client_rect()\n",
    "    return app_prop.width(), app_prop.height()\n",
    "\n",
    "def get_sreenshot(app=None, wind_stat=None):\n",
    "    if app != None:\n",
    "        app.set_focus()\n",
    "        app_prop = get_app_prop(app)\n",
    "        wind_stat = (app_prop[0], app_prop[1], app_prop[2], app_prop[3])\n",
    "    elif wind_stat == None:\n",
    "        print('[ERROR] Either app object or custom box has to be passed')\n",
    "        return \n",
    "    return gui.screenshot(region=wind_stat)\n",
    "\n",
    "def image_convert(image):\n",
    "    greyscale = image.convert('L')\n",
    "    blackwhite = greyscale.point(lambda x: 0 if x < 200 else 255, '1')\n",
    "    return image\n",
    "    # return blackwhite"
   ]
  },
  {
   "cell_type": "code",
   "execution_count": 3,
   "metadata": {},
   "outputs": [],
   "source": [
    "def app_get_region(app, x, y, width=10, height=10, use_ratio=False, draw_outline=True):\n",
    "    # PCARS 2 options change based on windows size (resolution)\n",
    "    if use_ratio:\n",
    "        app_h = app.client_rect().height()\n",
    "        app_w = app.client_rect().width()\n",
    "        x = x * app_w/2560\n",
    "        y = y * app_h/1440\n",
    "        width = width * app_w/2560\n",
    "        height = height * app_h/1440\n",
    "    x,y,width,height = int(x),int(y),int(width),int(height)\n",
    "    x, y = app.client_to_screen((x,y))\n",
    "    \n",
    "    if draw_outline:\n",
    "        class cusrect:\n",
    "            left=x\n",
    "            top=y\n",
    "            right=left+width\n",
    "            bottom=top+height\n",
    "\n",
    "        for _ in range(25):\n",
    "            app.draw_outline(rect=cusrect)\n",
    "    \n",
    "    return x, y, width, height"
   ]
  },
  {
   "cell_type": "code",
   "execution_count": 4,
   "metadata": {},
   "outputs": [],
   "source": [
    "def ocr(img, v1=False, raw=False):\n",
    "    if v1:\n",
    "        return pytesseract.image_to_string(img).split('\\n')\n",
    "    else:\n",
    "        import io\n",
    "        import json\n",
    "        import cv2\n",
    "        import numpy as np\n",
    "        import requests\n",
    "\n",
    "        img.save(\"screenshot.jpg\")\n",
    "        img = cv2.imread(\"screenshot.jpg\")\n",
    "        url_api = \"https://api.ocr.space/parse/image\"\n",
    "        _, compressedimage = cv2.imencode(\".jpg\", img, [1, 90])\n",
    "        file_bytes = io.BytesIO(compressedimage)\n",
    "\n",
    "        result = requests.post(url_api,\n",
    "                    files = {\"screenshot.jpg\": file_bytes},\n",
    "                    data = {\"apikey\": path_location.OCR_SPACE_API_KEY,\n",
    "                            \"language\": \"eng\",'isOverlayRequired':raw})\n",
    "        result = result.content.decode()\n",
    "        result = json.loads(result)\n",
    "        if raw:\n",
    "            return result\n",
    "        parsed_results = result.get(\"ParsedResults\")[0]\n",
    "        return parsed_results.get(\"ParsedText\").split()"
   ]
  },
  {
   "cell_type": "code",
   "execution_count": 5,
   "metadata": {},
   "outputs": [
    {
     "name": "stderr",
     "output_type": "stream",
     "text": "D:\\Users\\GV\\Anaconda3\\lib\\site-packages\\pywinauto\\application.py:1087: UserWarning: 32-bit application should be automated using 32-bit Python (you use 64-bit Python)\n  UserWarning)\n"
    }
   ],
   "source": [
    "try:\n",
    "    pc2 = Application().connect(title_re='.*Project CARS 2.*')['Project Cars 2']\n",
    "except wind.findwindows.ElementNotFoundError:\n",
    "    print('[ERROR] Launch PCARS 2 first')\n",
    "#     quit()\n",
    "    \n",
    "try:\n",
    "    rst = Application().connect(title_re='MainWindow').MainWindow\n",
    "except wind.findwindows.ElementNotFoundError:\n",
    "    rst = Application().start(RST_LOCATION+'\\\\RST Software.exe').MainWindow\n",
    "except wind.findwindows.ElementAmbiguousError:\n",
    "    print('[ERROR] Sad, but for now, close the params child window.')\n",
    "#     quit()"
   ]
  },
  {
   "cell_type": "markdown",
   "metadata": {},
   "source": [
    "## RST"
   ]
  },
  {
   "cell_type": "code",
   "execution_count": 6,
   "metadata": {},
   "outputs": [],
   "source": [
    "def open_rst_params():\n",
    "    rst.set_focus()\n",
    "    RST_FILE_OFFSET_X = 350\n",
    "    RST_FILE_OFFSET_Y = 10\n",
    "    RST_NEXT_OFFSET_X = RST_FILE_OFFSET_X+10\n",
    "    RST_NEXT_OFFSET_Y = RST_FILE_OFFSET_Y+75\n",
    "\n",
    "    #Select file\n",
    "    x, y, width, height = app_get_region(rst, RST_FILE_OFFSET_X, RST_FILE_OFFSET_Y, 60, 40, draw_outline=True)\n",
    "    click_here(x=x+width/2, y=y+height/2, pause=0.5)\n",
    "    \n",
    "    #Select next car parameters\n",
    "    x, y, width, height = app_get_region(rst, RST_NEXT_OFFSET_X, RST_NEXT_OFFSET_Y, 280, 30, draw_outline=True)\n",
    "    click_here(x=x+width/2, y=y+height/2, pause=0.5)\n",
    "\n",
    "\n",
    "def find_rst_settings(pos):\n",
    "    setup_bar_width = get_app_prop2(rst)[0]\n",
    "    mid_op = setup_bar_width/4\n",
    "    return (int(mid_op*pos), int(setup_bar_width/4))\n",
    "\n",
    "def open_rst_settings(settings):\n",
    "    settings_type = {'suspension':1, 'dampers':2, 'gearing':3}\n",
    "    rst.set_focus()\n",
    "    x, width = find_rst_settings(settings_type[settings])\n",
    "    x, y, width, height = app_get_region(rst, x, 70, width, 40, draw_outline=True)\n",
    "    click_here(x+width/2, y+height/2, pause=.5, debug=True)\n",
    "\n",
    "open_rst_params()"
   ]
  },
  {
   "cell_type": "markdown",
   "metadata": {},
   "source": [
    "## PCARS2"
   ]
  },
  {
   "cell_type": "code",
   "execution_count": 7,
   "metadata": {},
   "outputs": [],
   "source": [
    "def get_stats_gear_pc2():\n",
    "    # Select ECU menu\n",
    "    rst.set_focus()\n",
    "    pc2.set_focus()\n",
    "    pos = app_get_region(pc2, x=int(get_app_prop2(pc2)[0]/2)+300, y=340,  width=10, height=10, use_ratio=True)\n",
    "    gui.click(pos[0], pos[1])\n",
    "\n",
    "    x, y, width, height = app_get_region(pc2, x=1370, y=730,  width=100, height=320, use_ratio=True)\n",
    "    content = image_convert(get_sreenshot(wind_stat=(x, y, width, height)))\n",
    "    return ocr(content)\n",
    "\n",
    "def set_stats_gear_rst(gears):\n",
    "    rst.set_focus()\n",
    "    rst_pos_x, rst_pos_y = rst.rectangle().left, rst.rectangle().top\n",
    "    rst_pos_height, rst_pos_width = rst.rectangle().height(), rst.rectangle().width()\n",
    "    rst_width_mid = rst_pos_x+rst_pos_width/2\n",
    "    rst_y_firstfield = rst_pos_y+180\n",
    "    for gear, val in enumerate(gears):\n",
    "        gui.click((rst_width_mid, rst_y_firstfield+55*gear))\n",
    "        try:\n",
    "            float(val)\n",
    "            gui.typewrite(val)\n",
    "        except ValueError:\n",
    "            print(f'[ERROR] Gear {gear} ({val}) not a number')\n",
    "            gui.typewrite('0')"
   ]
  },
  {
   "cell_type": "markdown",
   "execution_count": 10,
   "metadata": {},
   "outputs": [],
   "source": [
    "gears = get_stats_gear_pc2()\n",
    "open_rst_settings('gearing')\n",
    "set_stats_gear_rst(gears)"
   ]
  },
  {
   "cell_type": "code",
   "execution_count": 11,
   "metadata": {},
   "outputs": [],
   "source": [
    "def retriev_ocr(content, debug=True):\n",
    "    results = ocr(content)\n",
    "    content = []\n",
    "    if len(results) == 0:\n",
    "        content.append('0')\n",
    "    else:\n",
    "        for val in results:\n",
    "            try:\n",
    "                content.append(re.match('\\\\d+', val).group())\n",
    "            except:\n",
    "                content.append('0')\n",
    "    if debug:\n",
    "        # content.show()\n",
    "        print(results)\n",
    "        print(content)\n",
    "    return content"
   ]
  },
  {
   "cell_type": "code",
   "execution_count": 12,
   "metadata": {},
   "outputs": [],
   "source": [
    "def get_stats_sus_pc2():\n",
    "    # Select suspension menu\n",
    "    rst.set_focus()\n",
    "    pc2.set_focus()\n",
    "    pos = app_get_region(pc2, x=int(get_app_prop2(pc2)[0]/2)-300, y=340, use_ratio=True)\n",
    "    gui.click(pos[0], pos[1])\n",
    "\n",
    "    # Get front spring\n",
    "    x, y, width, height = app_get_region(pc2, x=865, y=700,  width=130, height=40, use_ratio=True)\n",
    "    content = image_convert(get_sreenshot(wind_stat=(x, y, width, height)))\n",
    "    f_spring = retriev_ocr(content)[0]\n",
    "\n",
    "    # Get rear spring\n",
    "    x, y, width, height = app_get_region(pc2, x=865, y=1050,  width=130, height=40, use_ratio=True)\n",
    "    content = image_convert(get_sreenshot(wind_stat=(x, y, width, height)))\n",
    "    r_spring = retriev_ocr(content)[0]\n",
    "    \n",
    "    # Get front antirollbar\n",
    "    x, y, width, height = app_get_region(pc2, x=1350, y=665,  width=140, height=40, use_ratio=True)\n",
    "    content = image_convert(get_sreenshot(wind_stat=(x, y, width, height)))\n",
    "    f_ar = retriev_ocr(content)[0]\n",
    "    \n",
    "    # Get rear antirollbar\n",
    "    x, y, width, height = app_get_region(pc2, x=1350, y=1010,  width=140, height=40, use_ratio=True)\n",
    "    content = image_convert(get_sreenshot(wind_stat=(x, y, width, height)))\n",
    "    r_ar = retriev_ocr(content)[0]\n",
    "    \n",
    "    return f_spring, r_spring, f_ar, r_ar\n",
    "\n",
    "def set_stats_sus_rst(stats):\n",
    "    rst.set_focus()\n",
    "    \n",
    "    prop= get_app_prop2(rst)\n",
    "    seperator = prop[0]/3\n",
    "    start = seperator/2\n",
    "\n",
    "    pos = app_get_region(rst, x=start, y=230)\n",
    "    gui.click(pos[0], pos[1])\n",
    "    gui.typewrite(stats[0])\n",
    "\n",
    "    pos = app_get_region(rst, x=start+seperator, y=230)\n",
    "    gui.click(pos[0], pos[1])\n",
    "    gui.typewrite(stats[2])\n",
    "\n",
    "    pos = app_get_region(rst, x=start, y=435)\n",
    "    gui.click(pos[0], pos[1])\n",
    "    gui.typewrite(stats[1])\n",
    "\n",
    "    pos = app_get_region(rst, x=start+seperator, y=435)\n",
    "    gui.click(pos[0], pos[1])\n",
    "    gui.typewrite(stats[3])"
   ]
  },
  {
   "cell_type": "code",
   "execution_count": 13,
   "metadata": {},
   "outputs": [
    {
     "name": "stdout",
     "output_type": "stream",
     "text": "['158N/rnrn']\n['158']\n['236N/rTYT1']\n['236']\n['160N/mrT1']\n['160']\n['/rnm']\n['0']\n"
    }
   ],
   "source": [
    "stats = get_stats_sus_pc2()\n",
    "open_rst_settings('suspension')\n",
    "set_stats_sus_rst(stats)"
   ]
  },
  {
   "cell_type": "code",
   "execution_count": 36,
   "metadata": {},
   "outputs": [],
   "source": [
    "def get_stats_damp_pc2():\n",
    "    # Select dampers menu\n",
    "    rst.set_focus()\n",
    "    pc2.set_focus()\n",
    "    pos = app_get_region(pc2, x=int(get_app_prop2(pc2)[0]/2), y=340, use_ratio=True)\n",
    "    gui.click(pos[0], pos[1])\n",
    "\n",
    "    # Get front damp\n",
    "    x, y, width, height = app_get_region(pc2, x=860, y=580,  width=140, height=280, use_ratio=True)\n",
    "    content = image_convert(get_sreenshot(wind_stat=(x, y, width, height)))\n",
    "    f_damp = retriev_ocr(content)\n",
    "\n",
    "    # Get rear damp\n",
    "    x, y, width, height = app_get_region(pc2, x=860, y=965,  width=140, height=280, use_ratio=True)\n",
    "    content = image_convert(get_sreenshot(wind_stat=(x, y, width, height)))\n",
    "    r_damp = retriev_ocr(content)\n",
    "    \n",
    "    return f_damp, r_damp\n",
    "\n",
    "def set_stats_sus_rst(stats):\n",
    "    rst.set_focus()\n",
    "    \n",
    "    prop= get_app_prop2(rst)\n",
    "    seperator = prop[0]/3\n",
    "    start = seperator/2\n",
    "\n",
    "    pos = app_get_region(rst, x=start, y=230)\n",
    "    gui.click(pos[0], pos[1])\n",
    "    gui.typewrite(stats[0])\n",
    "\n",
    "    pos = app_get_region(rst, x=start+seperator, y=230)\n",
    "    gui.click(pos[0], pos[1])\n",
    "    gui.typewrite(stats[2])\n",
    "\n",
    "    pos = app_get_region(rst, x=start, y=435)\n",
    "    gui.click(pos[0], pos[1])\n",
    "    gui.typewrite(stats[1])\n",
    "\n",
    "    pos = app_get_region(rst, x=start+seperator, y=435)\n",
    "    gui.click(pos[0], pos[1])\n",
    "    gui.typewrite(stats[3])"
   ]
  },
  {
   "cell_type": "code",
   "execution_count": 37,
   "metadata": {},
   "outputs": [
    {
     "name": "stdout",
     "output_type": "stream",
     "text": "['7000N/m/s', '1050N/m/s', '3050N/m/s', '53011m/s', '38N', '-59N']\n['7000', '1050', '3050', '53011', '38', '0']\n['IOOOON/m/s', '14500N/m/s', '4000N/m/s', '7450N/m/s', '501', '-770N']\n['0', '14500', '4000', '7450', '501', '0']\n"
    },
    {
     "data": {
      "text/plain": "(['7000', '1050', '3050', '53011', '38', '0'],\n ['0', '14500', '4000', '7450', '501', '0'])"
     },
     "execution_count": 37,
     "metadata": {},
     "output_type": "execute_result"
    }
   ],
   "source": [
    "get_stats_damp_pc2()"
   ]
  },
  {
   "cell_type": "code",
   "execution_count": null,
   "metadata": {},
   "outputs": [],
   "source": []
  }
 ],
 "metadata": {
  "kernelspec": {
   "display_name": "Python 3",
   "language": "python",
   "name": "python3"
  },
  "language_info": {
   "codemirror_mode": {
    "name": "ipython",
    "version": 3
   },
   "file_extension": ".py",
   "mimetype": "text/x-python",
   "name": "python",
   "nbconvert_exporter": "python",
   "pygments_lexer": "ipython3",
   "version": "3.7.5"
  }
 },
 "nbformat": 4,
 "nbformat_minor": 4
}